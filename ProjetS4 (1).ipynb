{
 "cells": [
  {
   "cell_type": "markdown",
   "id": "88bb527e",
   "metadata": {},
   "source": [
    "# Projet S4 MIASHS "
   ]
  },
  {
   "cell_type": "markdown",
   "id": "3b8a2443",
   "metadata": {},
   "source": [
    "## L'Enquête COI"
   ]
  },
  {
   "cell_type": "markdown",
   "id": "ccb586ff",
   "metadata": {},
   "source": [
    "L’Enquête COI ou Changement Organisationnels et Information est une enquête visant à évaluer les effets de changements dans l’organisation est l’outillage informatique des entreprises sur l’organisation du travail salariés, leurs compétences, leur formation, les conditions de travail et les salaires au sein des entreprises. Les entreprises concernées sont ceux qui ont dix salariés ou plus des secteurs marchands soit un échantillon dans différent secteur. Basée sur des questionnaires pour les « entreprises » et les « salariés » cette enquête réalisée en 2006 est une réédition du même enquête réalisée en 1997 par le CEE (Communauté économique européenne), SESSI (Services des Etudes et des Statistiques Industrielles), SCESS (Société Commerciale de l’Economie Sociale et Solidaire), l’INSEE (Institut National de la Statistique et des Etudes Economique) et la DARES (Direction de l’Animation de la Recherche des Etudes et des Statistiques)."
   ]
  },
  {
   "cell_type": "markdown",
   "id": "3c6ad138",
   "metadata": {},
   "source": [
    "### Quelles sont les variables qui ont servit a conduire l'enquête?"
   ]
  },
  {
   "cell_type": "markdown",
   "id": "792aa051",
   "metadata": {},
   "source": [
    "Nous avons tout d’abord les variables du questionnaire qui constituent le cœur du fichier, les variables de gestion ; il s’agit des variables qui décrivent chaque unité interrogée au lancement d’enquête mais aussi ceux qui apportent des informations sur les unités lors de la phase de gestion. Nous avons aussi des informations sur les dates d’envoi du questionnaire, de retour et de rappel."
   ]
  },
  {
   "cell_type": "markdown",
   "id": "7da01af9",
   "metadata": {},
   "source": [
    "Ensuite nous avons les variables d’apurement se sont des variables qui permet de récupérer par la variable du questionnaire si les données brutes ont été conservées ou vérifiées pour les unités qui ont répondu. Après il y a les variables statut qui apportent des enseignements précieux sur les traitements de la non-réponse partielle. Puis les variables règles qui permettent de retrouvés certaines variables qui ont été corrigés pour la non-réponse partielle. Cette variable doit se combiner avec les variables d’apurement afin de compléter celui-ci afin de bien comprendre dans quel contexte la donnée brute a pu être modifiée, plus particulièrement si c’était une donnée manquante. Et enfin il y a les autres variables c’est-à-dire des variables créées lors de la correction de non-réponse et du calage comme la variable du poids. "
   ]
  },
  {
   "cell_type": "markdown",
   "id": "04135737",
   "metadata": {},
   "source": [
    "Alors ici nous disposons aussi de deux variables sur les questionnaires qui sont :"
   ]
  },
  {
   "cell_type": "markdown",
   "id": "1464f020",
   "metadata": {},
   "source": [
    "Le premier sur les questions qui portent sur deux périodes de référence comportant le numéro de la question et la période de référence et la deuxième les questions à réponses multiples qui comprend la période de référence, le numéro de l’item, numéro d’ordre pour chaque réponse cochée mais aussi le numéro de la question."
   ]
  },
  {
   "cell_type": "markdown",
   "id": "143ab4c9",
   "metadata": {},
   "source": [
    "### Le but du projet"
   ]
  },
  {
   "cell_type": "markdown",
   "id": "26cca2b8",
   "metadata": {},
   "source": [
    "Étudier la correlation de la variable 'Utile' avec les varibales 'Diplome', 'cscor', 'sexe', 'ag5'."
   ]
  },
  {
   "cell_type": "markdown",
   "id": "f3cda7d1",
   "metadata": {},
   "source": [
    "Et ceci en 3 grandes paties :"
   ]
  },
  {
   "cell_type": "markdown",
   "id": "e998c84e",
   "metadata": {},
   "source": [
    " -Nettoyage des donnéés"
   ]
  },
  {
   "cell_type": "markdown",
   "id": "8b3089c9",
   "metadata": {},
   "source": [
    "-Visualisation des donnéés dont on a besoin"
   ]
  },
  {
   "cell_type": "markdown",
   "id": "d60cb0d1",
   "metadata": {},
   "source": [
    "-Étude de la correlation grâce à un test statistique"
   ]
  },
  {
   "cell_type": "markdown",
   "id": "ca0a25d8",
   "metadata": {},
   "source": [
    "### Detail et explication de chacune des variables etudiées dans le cadre de notre projet:"
   ]
  },
  {
   "cell_type": "markdown",
   "id": "12de738b",
   "metadata": {},
   "source": [
    "#### Utile"
   ]
  },
  {
   "cell_type": "markdown",
   "id": "f7b63057",
   "metadata": {},
   "source": [
    "C’est une variable de type caractère, de taille 1, d’origine 94 et qui détermine si le travail du salarié est utile aux autres."
   ]
  },
  {
   "cell_type": "markdown",
   "id": "9985cb38",
   "metadata": {},
   "source": [
    "1 : Oui - 2 : Non, pas spécialement"
   ]
  },
  {
   "cell_type": "markdown",
   "id": "add97fa0",
   "metadata": {},
   "source": [
    "#### Diplome"
   ]
  },
  {
   "cell_type": "markdown",
   "id": "930c7da0",
   "metadata": {},
   "source": [
    "C’est une variable de type caractère, de taille 2, d’origine 9 et qui détermine le niveau d’étude le plus élevé du salarié."
   ]
  },
  {
   "cell_type": "markdown",
   "id": "8e82129c",
   "metadata": {},
   "source": [
    "1 : Primaire"
   ]
  },
  {
   "cell_type": "markdown",
   "id": "8f7b4b73",
   "metadata": {},
   "source": [
    "2 : Secondaire 1er cycle"
   ]
  },
  {
   "cell_type": "markdown",
   "id": "a81fa20a",
   "metadata": {},
   "source": [
    "3 : Technique cycle court : préparation d’un CAP, BEP, ....\n",
    "en apprentissage"
   ]
  },
  {
   "cell_type": "markdown",
   "id": "6829379d",
   "metadata": {},
   "source": [
    "4 : Technique cycle court : préparation d’un CAP, BEP, ....\n",
    "hors apprentissage"
   ]
  },
  {
   "cell_type": "markdown",
   "id": "fa7f3d44",
   "metadata": {},
   "source": [
    "5 : Secondaire générale (seconde à la terminale)"
   ]
  },
  {
   "cell_type": "markdown",
   "id": "0433d9ee",
   "metadata": {},
   "source": [
    "6 : Préparation d’un bac professionnel"
   ]
  },
  {
   "cell_type": "markdown",
   "id": "f3eeb49e",
   "metadata": {},
   "source": [
    "7 : Supérieur 1er cycle (y compris BTS, IUT,...)"
   ]
  },
  {
   "cell_type": "markdown",
   "id": "c6a2fa8e",
   "metadata": {},
   "source": [
    "8 : Supérieur 2nd cycle"
   ]
  },
  {
   "cell_type": "markdown",
   "id": "870d1970",
   "metadata": {},
   "source": [
    "9 : Supérieur 3ème cycle"
   ]
  },
  {
   "cell_type": "markdown",
   "id": "70fcca9d",
   "metadata": {},
   "source": [
    "10 : Grande école, école d’ingénieur, école de commerce"
   ]
  },
  {
   "cell_type": "markdown",
   "id": "9c01f222",
   "metadata": {},
   "source": [
    "#### cscor"
   ]
  },
  {
   "cell_type": "markdown",
   "id": "9b65ad1b",
   "metadata": {},
   "source": [
    "C’est une variable de type caractère, de taille 1, d’origine CALC et qui désigne le groupe socio-professionnel du salarié (codé à partir des données du fichier de calage)."
   ]
  },
  {
   "cell_type": "markdown",
   "id": "1a82f139",
   "metadata": {},
   "source": [
    "3 : cadres - 4 : professions intermédaires - 5 : employés - 6 : ouvriers"
   ]
  },
  {
   "cell_type": "markdown",
   "id": "97a8b9fa",
   "metadata": {},
   "source": [
    "#### Sexe"
   ]
  },
  {
   "cell_type": "markdown",
   "id": "b93d2e84",
   "metadata": {},
   "source": [
    "C’est une variable de type caractère, de taille 1, d’origine DADS et qui détermine le sexe (homme/femme)."
   ]
  },
  {
   "cell_type": "markdown",
   "id": "b8f6f4a3",
   "metadata": {},
   "source": [
    "1 : Homme - 2 : Femme"
   ]
  },
  {
   "cell_type": "markdown",
   "id": "ed40ac45",
   "metadata": {},
   "source": [
    "#### ag5"
   ]
  },
  {
   "cell_type": "markdown",
   "id": "11a06da0",
   "metadata": {},
   "source": [
    "C’est une variable de type caractère, de taille 15, d’origine CALC et qui désigne les tranches d’âge calculé à partir de AGEDET (variable corrigée de la variable age)."
   ]
  },
  {
   "cell_type": "markdown",
   "id": "8644961a",
   "metadata": {},
   "source": [
    "15 à 29 ans - 30 à 39 ans - 40 à 49 ans - 50 à 59 ans - 60 ans et plus"
   ]
  },
  {
   "cell_type": "markdown",
   "id": "928e799b",
   "metadata": {},
   "source": [
    "## Partie 1 : Nettoyer l'ensemble de données du fichier 'COI.csv'"
   ]
  },
  {
   "cell_type": "markdown",
   "id": "5d1382cd",
   "metadata": {},
   "source": [
    "### Étape 1 : Importer les bibliothèques requises"
   ]
  },
  {
   "cell_type": "code",
   "execution_count": 1,
   "id": "ba732100",
   "metadata": {},
   "outputs": [],
   "source": [
    "import pandas as pd\n",
    "import seaborn as sns\n",
    "import matplotlib.pyplot as plt\n",
    "import numpy as np\n",
    "import warnings\n",
    "warnings.filterwarnings(\"ignore\")"
   ]
  },
  {
   "cell_type": "markdown",
   "id": "9812dba5",
   "metadata": {},
   "source": [
    "### Étape 2 : Importer et lire l'ensemble de données"
   ]
  },
  {
   "cell_type": "code",
   "execution_count": 2,
   "id": "71680d52",
   "metadata": {},
   "outputs": [],
   "source": [
    "df = pd.read_csv('COI.csv', encoding = \"ISO-8859-1\")"
   ]
  },
  {
   "cell_type": "code",
   "execution_count": 3,
   "id": "ec1554d9",
   "metadata": {},
   "outputs": [
    {
     "name": "stdout",
     "output_type": "stream",
     "text": [
      "       SSECH  Acceptt  STATUT  TYPEMPLOI  CLASSIF  FONCTION Corps  Contra  \\\n",
      "0          0        1       3          6        9         7   NaN     1.0   \n",
      "1         10        1       3          6        5         8   NaN     1.0   \n",
      "2          0        1       3          6        5         4   NaN     1.0   \n",
      "3          0        1       3          6        7         1   NaN     1.0   \n",
      "4          0        1       3          6        2         1   NaN     1.0   \n",
      "...      ...      ...     ...        ...      ...       ...   ...     ...   \n",
      "14364      0        1       3          6        9         5   NaN     1.0   \n",
      "14365      0        1       3          6        1         1   NaN     1.0   \n",
      "14366     10        1       3          6        2         1   NaN     1.0   \n",
      "14367      0        1       3          6        7         1   NaN     1.0   \n",
      "14368     10        1       3          6        2         1   NaN     1.0   \n",
      "\n",
      "       Missio  Sectutil1  ...        w     ebe ka2_fin        sect_agr  \\\n",
      "0         3.0        NaN  ...  18281.0  9602.0     NaN             IAA   \n",
      "1         3.0        NaN  ...  18281.0  9602.0     NaN             IAA   \n",
      "2         3.0        NaN  ...  18281.0  9602.0     NaN             IAA   \n",
      "3         3.0        NaN  ...  18281.0  9602.0     NaN             IAA   \n",
      "4         3.0        NaN  ...   2730.0  1313.0     NaN  Biens de conso   \n",
      "...       ...        ...  ...      ...     ...     ...             ...   \n",
      "14364     3.0        NaN  ...  12673.0  4178.0     NaN             IAA   \n",
      "14365     3.0        NaN  ...  12673.0  4178.0     NaN             IAA   \n",
      "14366     3.0        NaN  ...  12673.0  4178.0     NaN             IAA   \n",
      "14367     1.0        1.0  ...  16151.0  3442.0     NaN             IAA   \n",
      "14368     3.0        NaN  ...  16151.0  3442.0     NaN             IAA   \n",
      "\n",
      "       crea2004_5  effl_corr  effl_corr_corr  taille7  taille5     asiren  \n",
      "0               0        484             NaN        5        4  aaahaloph  \n",
      "1               0        484             NaN        5        4  aaahaloph  \n",
      "2               0        484             NaN        5        4  aaahaloph  \n",
      "3               0        484             NaN        5        4  aaahaloph  \n",
      "4               0         72             NaN        3        3  aaahhupax  \n",
      "...           ...        ...             ...      ...      ...        ...  \n",
      "14364           0        494             NaN        5        4  zzzloceuz  \n",
      "14365           0        494             NaN        5        4  zzzloceuz  \n",
      "14366           0        494             NaN        5        4  zzzloceuz  \n",
      "14367           0        518             NaN        6        5  zzzuuccuo  \n",
      "14368           0        518             NaN        6        5  zzzuuccuo  \n",
      "\n",
      "[14369 rows x 840 columns]\n"
     ]
    }
   ],
   "source": [
    "print(df)"
   ]
  },
  {
   "cell_type": "markdown",
   "id": "28d8cb0e",
   "metadata": {},
   "source": [
    "### Étape 3 : Filtrer l'ensemble de données pour obtenir les colonnes requises"
   ]
  },
  {
   "cell_type": "code",
   "execution_count": 4,
   "id": "aabf8226",
   "metadata": {},
   "outputs": [],
   "source": [
    "df_filtered  = df[['Utile', 'Diplome', 'cscor', 'sexe', 'ag5']]"
   ]
  },
  {
   "cell_type": "code",
   "execution_count": 5,
   "id": "b17f7623",
   "metadata": {},
   "outputs": [
    {
     "name": "stdout",
     "output_type": "stream",
     "text": [
      "       Utile  Diplome  cscor  sexe          ag5\n",
      "0        1.0        7      5     1  40 à 49 ans\n",
      "1        1.0        9      4     2  30 à 39 ans\n",
      "2        1.0        4      4     1  40 à 49 ans\n",
      "3        1.0       10      3     1  40 à 49 ans\n",
      "4        2.0        5      6     1  50 à 59 ans\n",
      "...      ...      ...    ...   ...          ...\n",
      "14364    1.0        6      4     2  40 à 49 ans\n",
      "14365    1.0        3      6     2  30 à 39 ans\n",
      "14366    1.0        1      6     1  40 à 49 ans\n",
      "14367    1.0        8      3     1  30 à 39 ans\n",
      "14368    1.0        3      6     1  40 à 49 ans\n",
      "\n",
      "[14369 rows x 5 columns]\n"
     ]
    }
   ],
   "source": [
    "print(df_filtered)"
   ]
  },
  {
   "cell_type": "markdown",
   "id": "b5c98bed",
   "metadata": {},
   "source": [
    "### Étape 4 : Rechercher les valeurs en double"
   ]
  },
  {
   "cell_type": "code",
   "execution_count": 6,
   "id": "65455738",
   "metadata": {},
   "outputs": [
    {
     "name": "stdout",
     "output_type": "stream",
     "text": [
      "13826\n"
     ]
    }
   ],
   "source": [
    "dup = df_filtered.duplicated().sum()\n",
    "print(dup)"
   ]
  },
  {
   "cell_type": "code",
   "execution_count": 7,
   "id": "55ef9e9e",
   "metadata": {},
   "outputs": [
    {
     "name": "stdout",
     "output_type": "stream",
     "text": [
      "96.22%\n"
     ]
    }
   ],
   "source": [
    "dup_percentage = df_filtered.duplicated().sum()/len(df_filtered)*100\n",
    "dup_percentage = round(dup_percentage,2)\n",
    "dup_percentage = dup_percentage.astype(str) + '%'\n",
    "print(dup_percentage)"
   ]
  },
  {
   "cell_type": "markdown",
   "id": "57ce10af",
   "metadata": {},
   "source": [
    "### Étape 5 : Supprimez les valeurs en double"
   ]
  },
  {
   "cell_type": "code",
   "execution_count": 8,
   "id": "9d4206ea",
   "metadata": {},
   "outputs": [
    {
     "data": {
      "text/plain": [
       "0"
      ]
     },
     "execution_count": 8,
     "metadata": {},
     "output_type": "execute_result"
    }
   ],
   "source": [
    "df_filtered = df_filtered.drop_duplicates()\n",
    "df_filtered.duplicated().sum()"
   ]
  },
  {
   "cell_type": "markdown",
   "id": "5a4b008a",
   "metadata": {},
   "source": [
    "### Étape 6 : Rechercher les valeurs manquantes"
   ]
  },
  {
   "cell_type": "code",
   "execution_count": 9,
   "id": "a5b32ad3",
   "metadata": {},
   "outputs": [
    {
     "data": {
      "text/plain": [
       "Utile      1\n",
       "Diplome    0\n",
       "cscor      0\n",
       "sexe       0\n",
       "ag5        0\n",
       "dtype: int64"
      ]
     },
     "execution_count": 9,
     "metadata": {},
     "output_type": "execute_result"
    }
   ],
   "source": [
    "df_filtered.isnull().sum() "
   ]
  },
  {
   "cell_type": "markdown",
   "id": "56bfed95",
   "metadata": {},
   "source": [
    "### Étape 7 : Supprimer les valeurs manquante"
   ]
  },
  {
   "cell_type": "code",
   "execution_count": 10,
   "id": "b94268d4",
   "metadata": {},
   "outputs": [],
   "source": [
    "df_filtered.dropna(subset=[\"Utile\"], axis=0, inplace=True)\n",
    "df_filtered.reset_index(drop=True, inplace=True)"
   ]
  },
  {
   "cell_type": "code",
   "execution_count": 11,
   "id": "18b7f4a5",
   "metadata": {},
   "outputs": [
    {
     "name": "stdout",
     "output_type": "stream",
     "text": [
      "Utile      0\n",
      "Diplome    0\n",
      "cscor      0\n",
      "sexe       0\n",
      "ag5        0\n",
      "dtype: int64\n"
     ]
    }
   ],
   "source": [
    "print(df_filtered.isnull().sum())"
   ]
  },
  {
   "cell_type": "markdown",
   "id": "23c33387",
   "metadata": {},
   "source": [
    "### Étape 8 : Renommer les valeurs des colonnes : 'Utile','cscor','sexe' et 'Diplome' pour rendre le jeu de données plus significatif"
   ]
  },
  {
   "cell_type": "code",
   "execution_count": 12,
   "id": "7bc09b9c",
   "metadata": {},
   "outputs": [],
   "source": [
    "df_filtered[\"sexe\"].replace({1: \"H\", 2: \"F\"}, inplace=True)\n",
    "df_filtered[\"cscor\"].replace({3: \"cadres\", 4: \"professions intermedaires\", 5: \"employes\", 6: \"ouvriers\"}, inplace=True)\n",
    "df_filtered[\"Diplome\"].replace({1 : \"primaire\",2 : \"secondaire 1er cycle\",3 : \"tcc en apprentissage\", \n",
    "            4 : \"tcc hors apprentissage\", 5 : \"secondaire generale\",\n",
    "                    6 : \"preparation d un bac pro\",7 : \"superieur 1er cycle\",\n",
    "                            8 : \"superieur 2nd cycle\",9 : \"superieur 3eme cycle\", 10 : \"ecole d inge , ecole de com\"}, inplace=True)\n",
    "df_filtered[\"Utile\"].replace({1: \"oui\", 2: \"non\"}, inplace=True)"
   ]
  },
  {
   "cell_type": "code",
   "execution_count": 13,
   "id": "74f11bf1",
   "metadata": {},
   "outputs": [
    {
     "name": "stdout",
     "output_type": "stream",
     "text": [
      "    Utile                      Diplome                      cscor sexe  \\\n",
      "0     oui          superieur 1er cycle                   employes    H   \n",
      "1     oui         superieur 3eme cycle  professions intermedaires    F   \n",
      "2     oui       tcc hors apprentissage  professions intermedaires    H   \n",
      "3     oui  ecole d inge , ecole de com                     cadres    H   \n",
      "4     non          secondaire generale                   ouvriers    H   \n",
      "..    ...                          ...                        ...  ...   \n",
      "537   oui                     primaire                   employes    H   \n",
      "538   oui         secondaire 1er cycle  professions intermedaires    F   \n",
      "539   non         secondaire 1er cycle                   ouvriers    F   \n",
      "540   oui          superieur 1er cycle                     cadres    H   \n",
      "541   non       tcc hors apprentissage                     cadres    H   \n",
      "\n",
      "                ag5  \n",
      "0       40 à 49 ans  \n",
      "1       30 à 39 ans  \n",
      "2       40 à 49 ans  \n",
      "3       40 à 49 ans  \n",
      "4       50 à 59 ans  \n",
      "..              ...  \n",
      "537  60 ans et plus  \n",
      "538     30 à 39 ans  \n",
      "539     15 à 29 ans  \n",
      "540  60 ans et plus  \n",
      "541     30 à 39 ans  \n",
      "\n",
      "[542 rows x 5 columns]\n"
     ]
    }
   ],
   "source": [
    "print(df_filtered)"
   ]
  },
  {
   "cell_type": "markdown",
   "id": "40f3e51c",
   "metadata": {},
   "source": [
    "### Étape 9 : Enregister les données nettoyées dans un nouveau fichier csv"
   ]
  },
  {
   "cell_type": "code",
   "execution_count": 14,
   "id": "03ce2980",
   "metadata": {},
   "outputs": [],
   "source": [
    "df_filtered.to_csv('df_final.csv',index=False)"
   ]
  },
  {
   "cell_type": "markdown",
   "id": "c2ed1ce6",
   "metadata": {},
   "source": [
    "## Partie 2 : Visualisation des donnéés"
   ]
  },
  {
   "cell_type": "markdown",
   "id": "9ca6ee60",
   "metadata": {},
   "source": [
    "### Étape 1 : Importer les données filtrées"
   ]
  },
  {
   "cell_type": "code",
   "execution_count": 15,
   "id": "826bcb48",
   "metadata": {},
   "outputs": [],
   "source": [
    "df = pd.read_csv('df_final.csv', encoding = \"ISO-8859-1\")"
   ]
  },
  {
   "cell_type": "markdown",
   "id": "bf19d1ae",
   "metadata": {},
   "source": [
    "### Étape 2 : Créer un graphique à barres pour montrer la relation entre \"Diplome\" et \"Utile\" "
   ]
  },
  {
   "cell_type": "code",
   "execution_count": 16,
   "id": "7646d70e",
   "metadata": {},
   "outputs": [
    {
     "data": {
      "text/plain": [
       "<AxesSubplot:title={'center':'Diplome Utile'}, xlabel='Diplome'>"
      ]
     },
     "execution_count": 16,
     "metadata": {},
     "output_type": "execute_result"
    },
    {
     "data": {
      "image/png": "[encoded data removed]",
      "text/plain": [
       "<Figure size 432x288 with 1 Axes>"
      ]
     },
     "metadata": {
      "needs_background": "light"
     },
     "output_type": "display_data"
    }
   ],
   "source": [
    "CrosstabResult= pd.crosstab(index=df['Diplome'],columns=df['Utile'])\n",
    "CrosstabResult.plot.bar(stacked=False,color={\"non\": \"coral\", \"oui\": \"lightblue\"},\n",
    "           edgecolor = 'black',title='Diplome Utile')"
   ]
  },
  {
   "cell_type": "markdown",
   "id": "95ac6596",
   "metadata": {},
   "source": [
    "On peut remarquer sur le graphique ci-contre que dans chaque niveau d’études le niveau d’utilité du diplôme de celui- ci. On observe que le niveau d’utilité du diplôme de chaque niveau d’étude sont tous supérieur à 25 comme par exemple les études supérieures en 1er cycle à une utilité de 35. "
   ]
  },
  {
   "cell_type": "markdown",
   "id": "bf16feee",
   "metadata": {},
   "source": [
    "### Étape 3 : Créer un graphique à barres pour montrer la relation entre \"cscor\" et \"Utile\""
   ]
  },
  {
   "cell_type": "code",
   "execution_count": 17,
   "id": "3b4343ad",
   "metadata": {},
   "outputs": [
    {
     "data": {
      "text/plain": [
       "<AxesSubplot:title={'center':'cscor Utile'}, xlabel='cscor'>"
      ]
     },
     "execution_count": 17,
     "metadata": {},
     "output_type": "execute_result"
    },
    {
     "data": {
      "image/png": "[encoded data removed]",
      "text/plain": [
       "<Figure size 432x288 with 1 Axes>"
      ]
     },
     "metadata": {
      "needs_background": "light"
     },
     "output_type": "display_data"
    }
   ],
   "source": [
    "CrosstabResult= pd.crosstab(index=df['cscor'],columns=df['Utile'])\n",
    "CrosstabResult.plot.bar(stacked=False,color={\"non\": \"coral\", \"oui\": \"lightblue\"},\n",
    "           edgecolor = 'black',title='cscor Utile')"
   ]
  },
  {
   "cell_type": "markdown",
   "id": "3c2cbf67",
   "metadata": {},
   "source": [
    "### Étape 4 : Créer un graphique à barres pour montrer la relation entre \"sexe\" et \"Utile\""
   ]
  },
  {
   "cell_type": "code",
   "execution_count": 18,
   "id": "d1fcd812",
   "metadata": {},
   "outputs": [
    {
     "data": {
      "text/plain": [
       "<AxesSubplot:title={'center':'Sexe Utile'}, xlabel='sexe'>"
      ]
     },
     "execution_count": 18,
     "metadata": {},
     "output_type": "execute_result"
    },
    {
     "data": {
      "image/png": "[encoded data removed]",
      "text/plain": [
       "<Figure size 432x288 with 1 Axes>"
      ]
     },
     "metadata": {
      "needs_background": "light"
     },
     "output_type": "display_data"
    }
   ],
   "source": [
    "CrosstabResult= pd.crosstab(index=df['sexe'],columns=df['Utile'])\n",
    "CrosstabResult.plot.bar(stacked=False,color={\"non\": \"coral\", \"oui\": \"lightblue\"},\n",
    "           edgecolor = 'black',title='Sexe Utile')"
   ]
  },
  {
   "cell_type": "markdown",
   "id": "53c845db",
   "metadata": {},
   "source": [
    "On remarque que par rapport à l’utile l’Homme à un niveau plus élevé. Si  on devait interpréter ça on peut dire que la relation entre sexe et Utile est importante du côté de l’Homme."
   ]
  },
  {
   "cell_type": "markdown",
   "id": "6cb547ca",
   "metadata": {},
   "source": [
    "Cela ne peut pas s'expliquer aussi par le fait qu'un genre est plus nombreux qu'un autre car les populations de 'F' et 'H' sont presque egales"
   ]
  },
  {
   "cell_type": "code",
   "execution_count": 19,
   "id": "09a6228c",
   "metadata": {},
   "outputs": [
    {
     "data": {
      "text/plain": [
       "<AxesSubplot:title={'center':'REPARTITION SELON LES GENRES'}, ylabel='sexe'>"
      ]
     },
     "execution_count": 19,
     "metadata": {},
     "output_type": "execute_result"
    },
    {
     "data": {
      "image/png": "[encoded data removed]",
      "text/plain": [
       "<Figure size 432x288 with 1 Axes>"
      ]
     },
     "metadata": {},
     "output_type": "display_data"
    }
   ],
   "source": [
    "df['sexe'].value_counts(normalize=True).plot(kind='pie',\n",
    "        labels = [\"F\", \"H\"],\n",
    "        autopct=\"%1.1f pourcents\", title='REPARTITION SELON LES GENRES')"
   ]
  },
  {
   "cell_type": "markdown",
   "id": "e611eeb7",
   "metadata": {},
   "source": [
    "### Étape 5 : Créer un graphique à barres pour montrer la relation entre \"ag5\" et \"Utile\""
   ]
  },
  {
   "cell_type": "code",
   "execution_count": 20,
   "id": "492b9292",
   "metadata": {},
   "outputs": [
    {
     "data": {
      "text/plain": [
       "<AxesSubplot:title={'center':'ag5 Utile'}, xlabel='ag5'>"
      ]
     },
     "execution_count": 20,
     "metadata": {},
     "output_type": "execute_result"
    },
    {
     "data": {
      "image/png": "[encoded data removed]",
      "text/plain": [
       "<Figure size 432x288 with 1 Axes>"
      ]
     },
     "metadata": {
      "needs_background": "light"
     },
     "output_type": "display_data"
    }
   ],
   "source": [
    "CrosstabResult= pd.crosstab(index=df['ag5'],columns=df['Utile'])\n",
    "CrosstabResult.plot.bar(stacked=False,color={\"non\": \"coral\", \"oui\": \"lightblue\"},\n",
    "           edgecolor = 'black',title='ag5 Utile')"
   ]
  },
  {
   "cell_type": "markdown",
   "id": "aa06765c",
   "metadata": {},
   "source": [
    "## Partie 3 : Vérification de la corrélation de 'Utile' avec les autres varaibles"
   ]
  },
  {
   "cell_type": "markdown",
   "id": "f5ba5489",
   "metadata": {},
   "source": [
    "### Étape 1 : Importer l'ensemble de données"
   ]
  },
  {
   "cell_type": "code",
   "execution_count": 21,
   "id": "ec25ebb9",
   "metadata": {},
   "outputs": [],
   "source": [
    "df_corr = pd.read_csv('df_filtered.csv', encoding = \"ISO-8859-1\")"
   ]
  },
  {
   "cell_type": "markdown",
   "id": "ea56331b",
   "metadata": {},
   "source": [
    "### Étape 2 : Conversion des variables catégorielles en variables continues pour faire le test"
   ]
  },
  {
   "cell_type": "code",
   "execution_count": 22,
   "id": "5a662b54",
   "metadata": {},
   "outputs": [
    {
     "data": {
      "text/plain": [
       "array(['40 Ã\\xa0 49 ans', '30 Ã\\xa0 39 ans', '50 Ã\\xa0 59 ans',\n",
       "       '15 Ã\\xa0 29 ans', '60 ans et plus'], dtype=object)"
      ]
     },
     "execution_count": 22,
     "metadata": {},
     "output_type": "execute_result"
    }
   ],
   "source": [
    "df_corr.ag5.unique()"
   ]
  },
  {
   "cell_type": "code",
   "execution_count": 23,
   "id": "4cd9dea6",
   "metadata": {},
   "outputs": [],
   "source": [
    "df_corr[\"ag5\"].replace({'40 Ã\\xa0 49 ans': 1, '30 Ã\\xa0 39 ans': 2, '50 Ã\\xa0 59 ans': 3, '15 Ã\\xa0 29 ans': 4, '60 ans et plus': 5}, inplace=True)"
   ]
  },
  {
   "cell_type": "markdown",
   "id": "cb63a92e",
   "metadata": {},
   "source": [
    "### Étape 3 : Réalisation du test et representation via une Heatmap"
   ]
  },
  {
   "cell_type": "code",
   "execution_count": 24,
   "id": "8d3bdceb",
   "metadata": {},
   "outputs": [
    {
     "data": {
      "text/html": [
       "<div>\n",
       "<style scoped>\n",
       "    .dataframe tbody tr th:only-of-type {\n",
       "        vertical-align: middle;\n",
       "    }\n",
       "\n",
       "    .dataframe tbody tr th {\n",
       "        vertical-align: top;\n",
       "    }\n",
       "\n",
       "    .dataframe thead th {\n",
       "        text-align: right;\n",
       "    }\n",
       "</style>\n",
       "<table border=\"1\" class=\"dataframe\">\n",
       "  <thead>\n",
       "    <tr style=\"text-align: right;\">\n",
       "      <th></th>\n",
       "      <th>Utile</th>\n",
       "      <th>Diplome</th>\n",
       "      <th>cscor</th>\n",
       "      <th>sexe</th>\n",
       "      <th>ag5</th>\n",
       "    </tr>\n",
       "  </thead>\n",
       "  <tbody>\n",
       "    <tr>\n",
       "      <th>Utile</th>\n",
       "      <td>1.000000</td>\n",
       "      <td>-0.083080</td>\n",
       "      <td>0.113696</td>\n",
       "      <td>0.040548</td>\n",
       "      <td>0.022844</td>\n",
       "    </tr>\n",
       "    <tr>\n",
       "      <th>Diplome</th>\n",
       "      <td>-0.083080</td>\n",
       "      <td>1.000000</td>\n",
       "      <td>-0.592109</td>\n",
       "      <td>0.060952</td>\n",
       "      <td>0.108808</td>\n",
       "    </tr>\n",
       "    <tr>\n",
       "      <th>cscor</th>\n",
       "      <td>0.113696</td>\n",
       "      <td>-0.592109</td>\n",
       "      <td>1.000000</td>\n",
       "      <td>-0.064495</td>\n",
       "      <td>0.023224</td>\n",
       "    </tr>\n",
       "    <tr>\n",
       "      <th>sexe</th>\n",
       "      <td>0.040548</td>\n",
       "      <td>0.060952</td>\n",
       "      <td>-0.064495</td>\n",
       "      <td>1.000000</td>\n",
       "      <td>0.002228</td>\n",
       "    </tr>\n",
       "    <tr>\n",
       "      <th>ag5</th>\n",
       "      <td>0.022844</td>\n",
       "      <td>0.108808</td>\n",
       "      <td>0.023224</td>\n",
       "      <td>0.002228</td>\n",
       "      <td>1.000000</td>\n",
       "    </tr>\n",
       "  </tbody>\n",
       "</table>\n",
       "</div>"
      ],
      "text/plain": [
       "            Utile   Diplome     cscor      sexe       ag5\n",
       "Utile    1.000000 -0.083080  0.113696  0.040548  0.022844\n",
       "Diplome -0.083080  1.000000 -0.592109  0.060952  0.108808\n",
       "cscor    0.113696 -0.592109  1.000000 -0.064495  0.023224\n",
       "sexe     0.040548  0.060952 -0.064495  1.000000  0.002228\n",
       "ag5      0.022844  0.108808  0.023224  0.002228  1.000000"
      ]
     },
     "execution_count": 24,
     "metadata": {},
     "output_type": "execute_result"
    }
   ],
   "source": [
    "df_corr.corr()"
   ]
  },
  {
   "cell_type": "markdown",
   "id": "a5e99c38",
   "metadata": {},
   "source": [
    "#### La correlation de toutes les variables deux à deux"
   ]
  },
  {
   "cell_type": "code",
   "execution_count": 25,
   "id": "5ffa1e3f",
   "metadata": {},
   "outputs": [
    {
     "data": {
      "text/plain": [
       "Text(0.5, 1.0, 'Correlation Heatmap')"
      ]
     },
     "execution_count": 25,
     "metadata": {},
     "output_type": "execute_result"
    },
    {
     "data": {
      "image/png": "[encoded data removed]",
      "text/plain": [
       "<Figure size 1152x432 with 2 Axes>"
      ]
     },
     "metadata": {
      "needs_background": "light"
     },
     "output_type": "display_data"
    }
   ],
   "source": [
    "plt.figure(figsize=(16, 6))\n",
    "heatmap = sns.heatmap(df_corr.corr(), vmin=-1, vmax=1, annot=True, cmap='BrBG')\n",
    "heatmap.set_title('Correlation Heatmap', fontdict={'fontsize':18}, pad=12)\n",
    "#plt.savefig('heatmap.png', dpi=300, bbox_inches='tight')"
   ]
  },
  {
   "cell_type": "markdown",
   "id": "3cb1b8a6",
   "metadata": {},
   "source": [
    "La carte thermique de corrélation nous montre que les variables :"
   ]
  },
  {
   "cell_type": "markdown",
   "id": "a2f2473b",
   "metadata": {},
   "source": [
    "-\tCscor & Diplome et Diplôme & cscor ont de fortes corrélations négatives."
   ]
  },
  {
   "cell_type": "markdown",
   "id": "40e3a848",
   "metadata": {},
   "source": [
    "-\tIl existe plusieurs variables qui n’ont pas de corrélation et dont la valeur de corrélation est proche de 0."
   ]
  },
  {
   "cell_type": "markdown",
   "id": "7d9d93a3",
   "metadata": {},
   "source": [
    "#### La correlation des variables avec Utile"
   ]
  },
  {
   "cell_type": "code",
   "execution_count": 26,
   "id": "b54ddb45",
   "metadata": {},
   "outputs": [
    {
     "data": {
      "image/png": "[encoded data removed]",
      "text/plain": [
       "<Figure size 288x720 with 2 Axes>"
      ]
     },
     "metadata": {
      "needs_background": "light"
     },
     "output_type": "display_data"
    }
   ],
   "source": [
    "plt.figure(figsize=(4, 10))\n",
    "heatmap = sns.heatmap(df_corr.corr()[['Utile']].sort_values(by='Utile', ascending=False), vmin=-1, vmax=1, annot=True, cmap='BrBG')\n",
    "heatmap.set_title('Correlation des variables avec Utile', fontdict={'fontsize':18}, pad=16)\n",
    "plt.savefig('heatmap.png', dpi=300, bbox_inches='tight')"
   ]
  },
  {
   "cell_type": "markdown",
   "id": "516a0949",
   "metadata": {},
   "source": [
    "Ici est représenter la carte thermique de corrélation des variables Utile, cscor, sexe, ag5 et Diplôme qui dépendent d’Utile. On peut constater qu’Utile & cscor à la plus forte corrélation positive et que Diplôme & Utile à la plus forte corrélation négative et les autres variables ont une valeur de corrélation proche de O."
   ]
  },
  {
   "cell_type": "markdown",
   "id": "875406d7",
   "metadata": {},
   "source": [
    "## Conclusion"
   ]
  },
  {
   "cell_type": "markdown",
   "id": "de76a69c",
   "metadata": {},
   "source": [
    "D’après chacune des interprétations des statistiques sur la variable utile, on peut conclure que la plupart des salariés se considère comme utile peu importe leurs age, leurs sexe, leurs diplômes ou leurs groupe socio-professionnel. Et cela revient au fait qu’au sein d’une entreprise tous les salariés sont égaux et doivent se donner à fond pour l’entreprise, peu importe leurs postes, leurs statuts d’avant, leurs âges ou leurs sexes. Mais l’influence de ces variable n’est pas la même sur leurs utilité, et on le remarque sur la heatmap ci-dessus: utile est faiblement corrélé avec csor (0.11), sexe (0.041), ag5 (0.023) positivement et avec diplôme (-0,083) négativement."
   ]
  }
 ],
 "metadata": {
  "kernelspec": {
   "display_name": "Python 3 (ipykernel)",
   "language": "python",
   "name": "python3"
  },
  "language_info": {
   "codemirror_mode": {
    "name": "ipython",
    "version": 3
   },
   "file_extension": ".py",
   "mimetype": "text/x-python",
   "name": "python",
   "nbconvert_exporter": "python",
   "pygments_lexer": "ipython3",
   "version": "3.9.7"
  }
 },
 "nbformat": 4,
 "nbformat_minor": 5
}
